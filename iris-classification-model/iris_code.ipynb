{
 "cells": [
  {
   "cell_type": "code",
   "execution_count": 1,
   "source": [
    "import sys\r\n",
    "import pandas as pd\r\n",
    "import matplotlib\r\n",
    "import numpy as np\r\n",
    "import scipy as sp\r\n",
    "import IPython\r\n",
    "import sklearn"
   ],
   "outputs": [],
   "metadata": {}
  },
  {
   "cell_type": "code",
   "execution_count": 2,
   "source": [
    "from sklearn.datasets import load_iris\r\n",
    "iris_dataset = load_iris()\r\n",
    "\r\n",
    "print(\"Key of iris_datasets: \\n {}\".format(iris_dataset.keys()))"
   ],
   "outputs": [
    {
     "output_type": "stream",
     "name": "stdout",
     "text": [
      "Key of iris_datasets: \n",
      " dict_keys(['data', 'target', 'frame', 'target_names', 'DESCR', 'feature_names', 'filename'])\n"
     ]
    }
   ],
   "metadata": {}
  },
  {
   "cell_type": "code",
   "execution_count": 3,
   "source": [
    "print(iris_dataset['DESCR'][:193] + \"\\n...\")"
   ],
   "outputs": [
    {
     "output_type": "stream",
     "name": "stdout",
     "text": [
      ".. _iris_dataset:\n",
      "\n",
      "Iris plants dataset\n",
      "--------------------\n",
      "\n",
      "**Data Set Characteristics:**\n",
      "\n",
      "    :Number of Instances: 150 (50 in each of three classes)\n",
      "    :Number of Attributes: 4 numeric, pre\n",
      "...\n"
     ]
    }
   ],
   "metadata": {}
  },
  {
   "cell_type": "code",
   "execution_count": 4,
   "source": [
    "print(\"Target name: {}\".format(iris_dataset['target_names']))"
   ],
   "outputs": [
    {
     "output_type": "stream",
     "name": "stdout",
     "text": [
      "Target name: ['setosa' 'versicolor' 'virginica']\n"
     ]
    }
   ],
   "metadata": {}
  },
  {
   "cell_type": "code",
   "execution_count": 5,
   "source": [
    "print(\"Feature names: \\n{}\".format(iris_dataset['feature_names']))"
   ],
   "outputs": [
    {
     "output_type": "stream",
     "name": "stdout",
     "text": [
      "Feature names: \n",
      "['sepal length (cm)', 'sepal width (cm)', 'petal length (cm)', 'petal width (cm)']\n"
     ]
    }
   ],
   "metadata": {}
  },
  {
   "cell_type": "code",
   "execution_count": 6,
   "source": [
    "print(\"Type of data: {}\".format(type(iris_dataset['data'])))"
   ],
   "outputs": [
    {
     "output_type": "stream",
     "name": "stdout",
     "text": [
      "Type of data: <class 'numpy.ndarray'>\n"
     ]
    }
   ],
   "metadata": {}
  },
  {
   "cell_type": "code",
   "execution_count": 7,
   "source": [
    "print(\"Shape of data: {}\".format(iris_dataset['data'].shape))"
   ],
   "outputs": [
    {
     "output_type": "stream",
     "name": "stdout",
     "text": [
      "Shape of data: (150, 4)\n"
     ]
    }
   ],
   "metadata": {}
  },
  {
   "cell_type": "code",
   "execution_count": 8,
   "source": [
    "print(\"First five rows of data:\\n{}\".format(iris_dataset['data'][:5]))"
   ],
   "outputs": [
    {
     "output_type": "stream",
     "name": "stdout",
     "text": [
      "First five rows of data:\n",
      "[[5.1 3.5 1.4 0.2]\n",
      " [4.9 3.  1.4 0.2]\n",
      " [4.7 3.2 1.3 0.2]\n",
      " [4.6 3.1 1.5 0.2]\n",
      " [5.  3.6 1.4 0.2]]\n"
     ]
    }
   ],
   "metadata": {}
  },
  {
   "cell_type": "code",
   "execution_count": 9,
   "source": [
    "print(\"Type of target: {}\".format(type(iris_dataset['target'])))\r\n",
    "print(\"Shape of target: {}\".format(iris_dataset['target'].shape))\r\n",
    "print(\"Target:\\n{}\".format(iris_dataset['target']))\r\n"
   ],
   "outputs": [
    {
     "output_type": "stream",
     "name": "stdout",
     "text": [
      "Type of target: <class 'numpy.ndarray'>\n",
      "Shape of target: (150,)\n",
      "Target:\n",
      "[0 0 0 0 0 0 0 0 0 0 0 0 0 0 0 0 0 0 0 0 0 0 0 0 0 0 0 0 0 0 0 0 0 0 0 0 0\n",
      " 0 0 0 0 0 0 0 0 0 0 0 0 0 1 1 1 1 1 1 1 1 1 1 1 1 1 1 1 1 1 1 1 1 1 1 1 1\n",
      " 1 1 1 1 1 1 1 1 1 1 1 1 1 1 1 1 1 1 1 1 1 1 1 1 1 1 2 2 2 2 2 2 2 2 2 2 2\n",
      " 2 2 2 2 2 2 2 2 2 2 2 2 2 2 2 2 2 2 2 2 2 2 2 2 2 2 2 2 2 2 2 2 2 2 2 2 2\n",
      " 2 2]\n"
     ]
    }
   ],
   "metadata": {}
  },
  {
   "cell_type": "code",
   "execution_count": 10,
   "source": [
    "from sklearn.model_selection import train_test_split\r\n",
    "\r\n",
    "X_train, X_test, y_train, y_test = train_test_split(\r\n",
    " iris_dataset['data'], iris_dataset['target'], random_state=0)"
   ],
   "outputs": [],
   "metadata": {}
  },
  {
   "cell_type": "code",
   "execution_count": 11,
   "source": [
    "print(\"X_train shape: {}\".format(X_train.shape))\r\n",
    "print(\"y_train shape: {}\".format(y_train.shape))\r\n"
   ],
   "outputs": [
    {
     "output_type": "stream",
     "name": "stdout",
     "text": [
      "X_train shape: (112, 4)\n",
      "y_train shape: (112,)\n"
     ]
    }
   ],
   "metadata": {}
  },
  {
   "cell_type": "code",
   "execution_count": 12,
   "source": [
    "print(\"X_test shape: {}\".format(X_test.shape))\r\n",
    "print(\"y_test shape: {}\".format(y_test.shape))"
   ],
   "outputs": [
    {
     "output_type": "stream",
     "name": "stdout",
     "text": [
      "X_test shape: (38, 4)\n",
      "y_test shape: (38,)\n"
     ]
    }
   ],
   "metadata": {}
  },
  {
   "cell_type": "code",
   "execution_count": 14,
   "source": [
    "from sklearn.neighbors import KNeighborsClassifier\r\n",
    "knn = KNeighborsClassifier(n_neighbors=1)"
   ],
   "outputs": [],
   "metadata": {}
  },
  {
   "cell_type": "code",
   "execution_count": 15,
   "source": [
    "knn.fit(X_train, y_train)\r\n"
   ],
   "outputs": [
    {
     "output_type": "execute_result",
     "data": {
      "text/plain": [
       "KNeighborsClassifier(n_neighbors=1)"
      ]
     },
     "metadata": {},
     "execution_count": 15
    }
   ],
   "metadata": {}
  },
  {
   "cell_type": "code",
   "execution_count": 29,
   "source": [
    "X_new = np.array([[5, 2.9, 1, 0.2]])\r\n",
    "print(\"X_new.shape: {}\".format(X_new.shape))"
   ],
   "outputs": [
    {
     "output_type": "stream",
     "name": "stdout",
     "text": [
      "X_new.shape: (1, 4)\n"
     ]
    }
   ],
   "metadata": {}
  },
  {
   "cell_type": "code",
   "execution_count": 30,
   "source": [
    "prediction = knn.predict(X_new)\r\n",
    "print(\"Prediction: {}\".format(prediction))\r\n",
    "print(\"Predicted target name: {}\".format(\r\n",
    " iris_dataset['target_names'][prediction]))"
   ],
   "outputs": [
    {
     "output_type": "stream",
     "name": "stdout",
     "text": [
      "Prediction: [0]\n",
      "Predicted target name: ['setosa']\n"
     ]
    }
   ],
   "metadata": {}
  },
  {
   "cell_type": "code",
   "execution_count": 18,
   "source": [
    "y_pred = knn.predict(X_test)\r\n",
    "print(\"Test set predictions:\\n {}\".format(y_pred))"
   ],
   "outputs": [
    {
     "output_type": "stream",
     "name": "stdout",
     "text": [
      "Test set predictions:\n",
      " [2 1 0 2 0 2 0 1 1 1 2 1 1 1 1 0 1 1 0 0 2 1 0 0 2 0 0 1 1 0 2 1 0 2 2 1 0\n",
      " 2]\n"
     ]
    }
   ],
   "metadata": {}
  },
  {
   "cell_type": "code",
   "execution_count": 20,
   "source": [
    "print(\"Test set score: {:.2f}\".format(np.mean(y_pred == y_test)))\r\n",
    "# we can also use\r\n",
    "print(\"Test set score: {:.2f}\".format(knn.score(X_test, y_test)))"
   ],
   "outputs": [
    {
     "output_type": "stream",
     "name": "stdout",
     "text": [
      "Test set score: 0.97\n",
      "Test set score: 0.97\n"
     ]
    }
   ],
   "metadata": {}
  },
  {
   "cell_type": "code",
   "execution_count": 35,
   "source": [
    "X_train, X_test, y_train, y_test = train_test_split(\r\n",
    " iris_dataset['data'], iris_dataset['target'], random_state=0)\r\n",
    "\r\n",
    "knn = KNeighborsClassifier(n_neighbors=1)\r\n",
    "knn.fit(X_train, y_train)\r\n",
    "\r\n",
    "print(\"Test set score: {:.2f}\".format(knn.score(X_test, y_test)))\r\n"
   ],
   "outputs": [
    {
     "output_type": "stream",
     "name": "stdout",
     "text": [
      "Test set score: 0.97\n"
     ]
    }
   ],
   "metadata": {}
  },
  {
   "cell_type": "code",
   "execution_count": null,
   "source": [
    "import sys\r\n",
    "import pandas as pd\r\n",
    "import matplotlib\r\n",
    "import numpy as np\r\n",
    "import scipy as sp\r\n",
    "import IPython\r\n",
    "import sklearn\r\n",
    "from sklearn.model_selection import train_test_split\r\n",
    "from sklearn.datasets import load_iris\r\n",
    "from sklearn.neighbors import KNeighborsClassifier\r\n",
    "\r\n",
    "# loading dataset\r\n",
    "iris_dataset = load_iris()\r\n",
    "\r\n",
    "# exploring data\r\n",
    "print(\"Key of iris_datasets: \\n {}\".format(iris_dataset.keys()))\r\n",
    "print(iris_dataset['DESCR'][:193] + \"\\n...\")\r\n",
    "print(\"Target name: {}\".format(iris_dataset['target_names']))\r\n",
    "print(\"Feature names: \\n{}\".format(iris_dataset['feature_names']))\r\n",
    "print(\"Type of data: {}\".format(type(iris_dataset['data'])))\r\n",
    "print(\"Shape of data: {}\".format(iris_dataset['data'].shape))\r\n",
    "print(\"First five rows of data:\\n{}\".format(iris_dataset['data'][:5]))\r\n",
    "\r\n",
    "\r\n",
    "print(\"Type of target: {}\".format(type(iris_dataset['target'])))\r\n",
    "print(\"Shape of target: {}\".format(iris_dataset['target'].shape))\r\n",
    "print(\"Target:\\n{}\".format(iris_dataset['target']))\r\n",
    "\r\n",
    "# Split into Training and Testing Data\r\n",
    "X_train, X_test, y_train, y_test = train_test_split(\r\n",
    "    iris_dataset['data'], iris_dataset['target'], random_state=0)\r\n",
    "\r\n",
    "print(\"X_train shape: {}\".format(X_train.shape))\r\n",
    "print(\"y_train shape: {}\".format(y_train.shape))\r\n",
    "\r\n",
    "print(\"X_test shape: {}\".format(X_test.shape))\r\n",
    "print(\"y_test shape: {}\".format(y_test.shape))\r\n",
    "\r\n",
    "# Implementing KNN k-Nearest Neighbors\r\n",
    "knn = KNeighborsClassifier(n_neighbors=1)\r\n",
    "knn.fit(X_train, y_train)\r\n",
    "\r\n",
    "# Making Predictions\r\n",
    "X_new = np.array([[5, 2.9, 1, 0.2]])\r\n",
    "print(\"X_new.shape: {}\".format(X_new.shape))\r\n",
    "\r\n",
    "prediction = knn.predict(X_new)\r\n",
    "print(\"Prediction: {}\".format(prediction))\r\n",
    "print(\"Predicted target name: {}\".format(\r\n",
    "    iris_dataset['target_names'][prediction]))\r\n",
    "\r\n",
    "# Evaluation\r\n",
    "y_pred = knn.predict(X_test)\r\n",
    "print(\"Test set predictions:\\n {}\".format(y_pred))\r\n",
    "\r\n",
    "print(\"Test set score: {:.2f}\".format(np.mean(y_pred == y_test)))\r\n",
    "# we can also use\r\n",
    "print(\"Test set score: {:.2f}\".format(knn.score(X_test, y_test)))\r\n",
    "# 97%\r\n",
    "\r\n",
    "\r\n",
    "# Summary\r\n",
    "\r\n",
    "X_train, X_test, y_train, y_test = train_test_split(\r\n",
    "    iris_dataset['data'], iris_dataset['target'], random_state=0)\r\n",
    "\r\n",
    "knn = KNeighborsClassifier(n_neighbors=1)\r\n",
    "knn.fit(X_train, y_train)\r\n",
    "\r\n",
    "print(\"Test set score: {:.2f}\".format(knn.score(X_test, y_test)))\r\n"
   ],
   "outputs": [],
   "metadata": {}
  },
  {
   "cell_type": "code",
   "execution_count": null,
   "source": [],
   "outputs": [],
   "metadata": {}
  }
 ],
 "metadata": {
  "orig_nbformat": 4,
  "language_info": {
   "name": "python",
   "version": "3.8.8",
   "mimetype": "text/x-python",
   "codemirror_mode": {
    "name": "ipython",
    "version": 3
   },
   "pygments_lexer": "ipython3",
   "nbconvert_exporter": "python",
   "file_extension": ".py"
  },
  "kernelspec": {
   "name": "python3",
   "display_name": "Python 3.8.8 64-bit ('base': conda)"
  },
  "interpreter": {
   "hash": "24e2ec932979eb3e5d525e963fc17efb347ef25fbc08cd0014d23de0d69bf5e8"
  }
 },
 "nbformat": 4,
 "nbformat_minor": 2
}